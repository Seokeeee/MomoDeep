{
 "cells": [
  {
   "cell_type": "code",
   "execution_count": 1,
   "id": "01d8ae8f",
   "metadata": {},
   "outputs": [],
   "source": [
    "import tensorflow as tf\n",
    "import numpy as np\n",
    "import datetime"
   ]
  },
  {
   "cell_type": "code",
   "execution_count": 15,
   "id": "4d41a129",
   "metadata": {},
   "outputs": [
    {
     "name": "stdout",
     "output_type": "stream",
     "text": [
      "The tensorboard extension is already loaded. To reload it, use:\n",
      "  %reload_ext tensorboard\n"
     ]
    }
   ],
   "source": [
    "%load_ext tensorboard"
   ]
  },
  {
   "cell_type": "code",
   "execution_count": 3,
   "id": "8db629f2",
   "metadata": {},
   "outputs": [],
   "source": [
    "fashion_mnist = tf.keras.datasets.fashion_mnist\n",
    "\n",
    "(train_images, train_labels), (test_images, test_labels) = fashion_mnist.load_data()"
   ]
  },
  {
   "cell_type": "code",
   "execution_count": 4,
   "id": "d65467fa",
   "metadata": {},
   "outputs": [],
   "source": [
    "class_names = ['T-shirt/top', 'Trouser', 'Pullover', 'Dress', 'Coat',\n",
    "               'Sandal', 'Shirt', 'Sneaker', 'Bag', 'Ankle boot']"
   ]
  },
  {
   "cell_type": "code",
   "execution_count": 5,
   "id": "6ece40d6",
   "metadata": {
    "scrolled": true
   },
   "outputs": [
    {
     "data": {
      "text/plain": [
       "(60000, 28, 28)"
      ]
     },
     "execution_count": 5,
     "metadata": {},
     "output_type": "execute_result"
    }
   ],
   "source": [
    "train_images.shape"
   ]
  },
  {
   "cell_type": "code",
   "execution_count": 6,
   "id": "53b28e30",
   "metadata": {},
   "outputs": [],
   "source": [
    "train_images = train_images / 255.0\n",
    "\n",
    "test_images = test_images / 255.0"
   ]
  },
  {
   "cell_type": "markdown",
   "id": "e18545c1",
   "metadata": {},
   "source": [
    "# 0. Hyperthesis"
   ]
  },
  {
   "cell_type": "code",
   "execution_count": 7,
   "id": "65e21608",
   "metadata": {},
   "outputs": [],
   "source": [
    "Random_Init = tf.keras.initializers.RandomUniform()\n",
    "Xavier_Init = tf.keras.initializers.GlorotUniform()\n",
    "He_Init = tf.keras.initializers.HeUniform()"
   ]
  },
  {
   "cell_type": "markdown",
   "id": "20acb92c",
   "metadata": {},
   "source": [
    "# 1. Sigm / Ran"
   ]
  },
  {
   "cell_type": "code",
   "execution_count": 8,
   "id": "358e5381",
   "metadata": {},
   "outputs": [],
   "source": [
    "model1 = tf.keras.Sequential([\n",
    "    tf.keras.layers.Flatten(input_shape=(28, 28)),\n",
    "    tf.keras.layers.Dense(128, activation='sigmoid', kernel_initializer = Random_Init),\n",
    "    tf.keras.layers.Dense(128, activation='sigmoid', kernel_initializer = Random_Init),\n",
    "    tf.keras.layers.Dense(128, activation='sigmoid', kernel_initializer = Random_Init),\n",
    "    tf.keras.layers.Dense(10, activation='softmax')\n",
    "])"
   ]
  },
  {
   "cell_type": "code",
   "execution_count": 9,
   "id": "96d7f553",
   "metadata": {},
   "outputs": [],
   "source": [
    "early_stopping = tf.keras.callbacks.EarlyStopping(monitor='val_loss', patience = 2)\n",
    "\n",
    "log_dir = \"logs/fit/\" + datetime.datetime.now().strftime(\"%Y%m%d-%H%M%S\")\n",
    "tensorboard = tf.keras.callbacks.TensorBoard(log_dir=log_dir, histogram_freq=1)"
   ]
  },
  {
   "cell_type": "code",
   "execution_count": 10,
   "id": "7e5e5db4",
   "metadata": {},
   "outputs": [],
   "source": [
    "model1.compile(optimizer='adam',\n",
    "              loss=tf.keras.losses.SparseCategoricalCrossentropy(),\n",
    "              metrics=['accuracy'])"
   ]
  },
  {
   "cell_type": "code",
   "execution_count": 11,
   "id": "31c95848",
   "metadata": {
    "scrolled": true
   },
   "outputs": [
    {
     "name": "stdout",
     "output_type": "stream",
     "text": [
      "Epoch 1/20\n",
      "1500/1500 [==============================] - 6s 3ms/step - loss: 0.8539 - accuracy: 0.6621 - val_loss: 0.5281 - val_accuracy: 0.8148\n",
      "Epoch 2/20\n",
      "1500/1500 [==============================] - 5s 3ms/step - loss: 0.4573 - accuracy: 0.8369 - val_loss: 0.4329 - val_accuracy: 0.8438\n",
      "Epoch 3/20\n",
      "1500/1500 [==============================] - 4s 3ms/step - loss: 0.3942 - accuracy: 0.8595 - val_loss: 0.4048 - val_accuracy: 0.8545\n",
      "Epoch 4/20\n",
      "1500/1500 [==============================] - 4s 3ms/step - loss: 0.3604 - accuracy: 0.8690 - val_loss: 0.3610 - val_accuracy: 0.8711\n",
      "Epoch 5/20\n",
      "1500/1500 [==============================] - 4s 3ms/step - loss: 0.3355 - accuracy: 0.8775 - val_loss: 0.3453 - val_accuracy: 0.8761\n",
      "Epoch 6/20\n",
      "1500/1500 [==============================] - 5s 3ms/step - loss: 0.3179 - accuracy: 0.8850 - val_loss: 0.3491 - val_accuracy: 0.8742\n",
      "Epoch 7/20\n",
      "1500/1500 [==============================] - 5s 3ms/step - loss: 0.3036 - accuracy: 0.8887 - val_loss: 0.3395 - val_accuracy: 0.8788\n",
      "Epoch 8/20\n",
      "1500/1500 [==============================] - 5s 3ms/step - loss: 0.2896 - accuracy: 0.8932 - val_loss: 0.3334 - val_accuracy: 0.8803\n",
      "Epoch 9/20\n",
      "1500/1500 [==============================] - 5s 3ms/step - loss: 0.2793 - accuracy: 0.8980 - val_loss: 0.3277 - val_accuracy: 0.8838\n",
      "Epoch 10/20\n",
      "1500/1500 [==============================] - 5s 4ms/step - loss: 0.2687 - accuracy: 0.9011 - val_loss: 0.3176 - val_accuracy: 0.8877\n",
      "Epoch 11/20\n",
      "1500/1500 [==============================] - 7s 5ms/step - loss: 0.2603 - accuracy: 0.9047 - val_loss: 0.3164 - val_accuracy: 0.8868\n",
      "Epoch 12/20\n",
      "1500/1500 [==============================] - 7s 5ms/step - loss: 0.2509 - accuracy: 0.9086 - val_loss: 0.3405 - val_accuracy: 0.8786\n",
      "Epoch 13/20\n",
      "1500/1500 [==============================] - 5s 3ms/step - loss: 0.2459 - accuracy: 0.9097 - val_loss: 0.3378 - val_accuracy: 0.8833\n"
     ]
    },
    {
     "data": {
      "text/plain": [
       "<keras.callbacks.History at 0x24521eb58e0>"
      ]
     },
     "execution_count": 11,
     "metadata": {},
     "output_type": "execute_result"
    }
   ],
   "source": [
    "model1.fit(train_images, train_labels, epochs=20, validation_split=0.2, callbacks=[early_stopping, tensorboard])"
   ]
  },
  {
   "cell_type": "code",
   "execution_count": 13,
   "id": "b4a9759b",
   "metadata": {},
   "outputs": [
    {
     "name": "stdout",
     "output_type": "stream",
     "text": [
      "313/313 [==============================] - 1s 2ms/step - loss: 0.3674 - accuracy: 0.8723\n"
     ]
    }
   ],
   "source": [
    "result1 = model1.evaluate(test_images, test_labels)"
   ]
  },
  {
   "cell_type": "markdown",
   "id": "e9b3a2d9",
   "metadata": {},
   "source": [
    "# 2. Relu / Xavi"
   ]
  },
  {
   "cell_type": "code",
   "execution_count": 16,
   "id": "37d7753e",
   "metadata": {},
   "outputs": [],
   "source": [
    "model2 = tf.keras.Sequential([\n",
    "    tf.keras.layers.Flatten(input_shape=(28, 28)),\n",
    "    tf.keras.layers.Dense(128, activation='relu', kernel_initializer = Xavier_Init),\n",
    "    tf.keras.layers.Dense(128, activation='relu', kernel_initializer = Xavier_Init),\n",
    "    tf.keras.layers.Dense(128, activation='relu', kernel_initializer = Xavier_Init),\n",
    "    tf.keras.layers.Dense(10, activation='softmax')\n",
    "])"
   ]
  },
  {
   "cell_type": "code",
   "execution_count": 17,
   "id": "bb5e84fa",
   "metadata": {},
   "outputs": [
    {
     "name": "stdout",
     "output_type": "stream",
     "text": [
      "Epoch 1/20\n",
      "1500/1500 [==============================] - 5s 3ms/step - loss: 0.5045 - accuracy: 0.8188 - val_loss: 0.4402 - val_accuracy: 0.8350\n",
      "Epoch 2/20\n",
      "1500/1500 [==============================] - 5s 3ms/step - loss: 0.3730 - accuracy: 0.8630 - val_loss: 0.3599 - val_accuracy: 0.8709\n",
      "Epoch 3/20\n",
      "1500/1500 [==============================] - 5s 3ms/step - loss: 0.3378 - accuracy: 0.8749 - val_loss: 0.3503 - val_accuracy: 0.8740\n",
      "Epoch 4/20\n",
      "1500/1500 [==============================] - 5s 3ms/step - loss: 0.3165 - accuracy: 0.8819 - val_loss: 0.3395 - val_accuracy: 0.8752\n",
      "Epoch 5/20\n",
      "1500/1500 [==============================] - 5s 4ms/step - loss: 0.2938 - accuracy: 0.8899 - val_loss: 0.3319 - val_accuracy: 0.8795\n",
      "Epoch 6/20\n",
      "1500/1500 [==============================] - 5s 4ms/step - loss: 0.2844 - accuracy: 0.8944 - val_loss: 0.3347 - val_accuracy: 0.8793\n",
      "Epoch 7/20\n",
      "1500/1500 [==============================] - 5s 4ms/step - loss: 0.2661 - accuracy: 0.9011 - val_loss: 0.3222 - val_accuracy: 0.8832\n",
      "Epoch 8/20\n",
      "1500/1500 [==============================] - 6s 4ms/step - loss: 0.2603 - accuracy: 0.9016 - val_loss: 0.3365 - val_accuracy: 0.8835\n",
      "Epoch 9/20\n",
      "1500/1500 [==============================] - 5s 4ms/step - loss: 0.2477 - accuracy: 0.9063 - val_loss: 0.3416 - val_accuracy: 0.8790\n"
     ]
    },
    {
     "data": {
      "text/plain": [
       "<keras.callbacks.History at 0x245224c8f70>"
      ]
     },
     "execution_count": 17,
     "metadata": {},
     "output_type": "execute_result"
    }
   ],
   "source": [
    "model2.compile(optimizer='adam',\n",
    "              loss=tf.keras.losses.SparseCategoricalCrossentropy(),\n",
    "              metrics=['accuracy'])\n",
    "\n",
    "model2.fit(train_images, train_labels, epochs=20, validation_split=0.2, callbacks=[early_stopping, tensorboard])"
   ]
  },
  {
   "cell_type": "code",
   "execution_count": 18,
   "id": "353b6f97",
   "metadata": {},
   "outputs": [
    {
     "name": "stdout",
     "output_type": "stream",
     "text": [
      "313/313 [==============================] - 1s 2ms/step - loss: 0.3618 - accuracy: 0.8760\n"
     ]
    }
   ],
   "source": [
    "result2 = model2.evaluate(test_images, test_labels)"
   ]
  },
  {
   "cell_type": "markdown",
   "id": "43298176",
   "metadata": {},
   "source": [
    "# 3. Relu / He"
   ]
  },
  {
   "cell_type": "code",
   "execution_count": 19,
   "id": "6f6d92df",
   "metadata": {},
   "outputs": [],
   "source": [
    "model3 = tf.keras.Sequential([\n",
    "    tf.keras.layers.Flatten(input_shape=(28, 28)),\n",
    "    tf.keras.layers.Dense(128, activation='relu', kernel_initializer = He_Init),\n",
    "    tf.keras.layers.Dense(128, activation='relu', kernel_initializer = He_Init),\n",
    "    tf.keras.layers.Dense(128, activation='relu', kernel_initializer = He_Init),\n",
    "    tf.keras.layers.Dense(10, activation='softmax')\n",
    "])"
   ]
  },
  {
   "cell_type": "code",
   "execution_count": 20,
   "id": "4e7d4dcf",
   "metadata": {},
   "outputs": [
    {
     "name": "stdout",
     "output_type": "stream",
     "text": [
      "Epoch 1/20\n",
      "1500/1500 [==============================] - 5s 3ms/step - loss: 0.5110 - accuracy: 0.8141 - val_loss: 0.4521 - val_accuracy: 0.8453\n",
      "Epoch 2/20\n",
      "1500/1500 [==============================] - 5s 3ms/step - loss: 0.3771 - accuracy: 0.8610 - val_loss: 0.3899 - val_accuracy: 0.8583\n",
      "Epoch 3/20\n",
      "1500/1500 [==============================] - 5s 3ms/step - loss: 0.3406 - accuracy: 0.8723 - val_loss: 0.3663 - val_accuracy: 0.8721\n",
      "Epoch 4/20\n",
      "1500/1500 [==============================] - 5s 3ms/step - loss: 0.3166 - accuracy: 0.8828 - val_loss: 0.3479 - val_accuracy: 0.8699\n",
      "Epoch 5/20\n",
      "1500/1500 [==============================] - 5s 3ms/step - loss: 0.2970 - accuracy: 0.8880 - val_loss: 0.3287 - val_accuracy: 0.8805\n",
      "Epoch 6/20\n",
      "1500/1500 [==============================] - 5s 3ms/step - loss: 0.2830 - accuracy: 0.8942 - val_loss: 0.3383 - val_accuracy: 0.8759\n",
      "Epoch 7/20\n",
      "1500/1500 [==============================] - 6s 4ms/step - loss: 0.2701 - accuracy: 0.8969 - val_loss: 0.3208 - val_accuracy: 0.8865\n",
      "Epoch 8/20\n",
      "1500/1500 [==============================] - 5s 4ms/step - loss: 0.2607 - accuracy: 0.9020 - val_loss: 0.3357 - val_accuracy: 0.8830\n",
      "Epoch 9/20\n",
      "1500/1500 [==============================] - 6s 4ms/step - loss: 0.2501 - accuracy: 0.9040 - val_loss: 0.3175 - val_accuracy: 0.8870\n",
      "Epoch 10/20\n",
      "1500/1500 [==============================] - 6s 4ms/step - loss: 0.2390 - accuracy: 0.9078 - val_loss: 0.3226 - val_accuracy: 0.8885\n",
      "Epoch 11/20\n",
      "1500/1500 [==============================] - 6s 4ms/step - loss: 0.2326 - accuracy: 0.9108 - val_loss: 0.3442 - val_accuracy: 0.8855\n"
     ]
    },
    {
     "data": {
      "text/plain": [
       "<keras.callbacks.History at 0x2454d00f5b0>"
      ]
     },
     "execution_count": 20,
     "metadata": {},
     "output_type": "execute_result"
    }
   ],
   "source": [
    "model3.compile(optimizer='adam',\n",
    "              loss=tf.keras.losses.SparseCategoricalCrossentropy(),\n",
    "              metrics=['accuracy'])\n",
    "\n",
    "model3.fit(train_images, train_labels, epochs=20, validation_split=0.2, callbacks=[early_stopping, tensorboard])"
   ]
  },
  {
   "cell_type": "code",
   "execution_count": 21,
   "id": "ce7b4950",
   "metadata": {},
   "outputs": [
    {
     "name": "stdout",
     "output_type": "stream",
     "text": [
      "313/313 [==============================] - 1s 4ms/step - loss: 0.3789 - accuracy: 0.8755\n"
     ]
    }
   ],
   "source": [
    "result3 = model3.evaluate(test_images, test_labels)"
   ]
  },
  {
   "cell_type": "markdown",
   "id": "c4ae5903",
   "metadata": {},
   "source": [
    "# 4. Relu / He / Dropout"
   ]
  },
  {
   "cell_type": "code",
   "execution_count": 22,
   "id": "df8b4c23",
   "metadata": {},
   "outputs": [],
   "source": [
    "model4 = tf.keras.Sequential([\n",
    "    tf.keras.layers.Flatten(input_shape=(28, 28)),\n",
    "    tf.keras.layers.Dense(128, activation='relu', kernel_initializer = He_Init),\n",
    "    tf.keras.layers.Dropout(rate=0.1),\n",
    "    tf.keras.layers.Dense(128, activation='relu', kernel_initializer = He_Init),\n",
    "    tf.keras.layers.Dropout(rate=0.1),\n",
    "    tf.keras.layers.Dense(128, activation='relu', kernel_initializer = He_Init),\n",
    "    tf.keras.layers.Dropout(rate=0.1),\n",
    "    tf.keras.layers.Dense(10, activation='softmax')\n",
    "])"
   ]
  },
  {
   "cell_type": "code",
   "execution_count": 23,
   "id": "5aa36de6",
   "metadata": {
    "scrolled": true
   },
   "outputs": [
    {
     "name": "stdout",
     "output_type": "stream",
     "text": [
      "Epoch 1/20\n",
      "1500/1500 [==============================] - 6s 4ms/step - loss: 0.5748 - accuracy: 0.7916 - val_loss: 0.4202 - val_accuracy: 0.8453\n",
      "Epoch 2/20\n",
      "1500/1500 [==============================] - 8s 5ms/step - loss: 0.4248 - accuracy: 0.8462 - val_loss: 0.3918 - val_accuracy: 0.8564\n",
      "Epoch 3/20\n",
      "1500/1500 [==============================] - 6s 4ms/step - loss: 0.3824 - accuracy: 0.8583 - val_loss: 0.3692 - val_accuracy: 0.8696\n",
      "Epoch 4/20\n",
      "1500/1500 [==============================] - 8s 5ms/step - loss: 0.3605 - accuracy: 0.8683 - val_loss: 0.3903 - val_accuracy: 0.8484\n",
      "Epoch 5/20\n",
      "1500/1500 [==============================] - 9s 6ms/step - loss: 0.3434 - accuracy: 0.8720 - val_loss: 0.3514 - val_accuracy: 0.8701\n",
      "Epoch 6/20\n",
      "1500/1500 [==============================] - 9s 6ms/step - loss: 0.3302 - accuracy: 0.8785 - val_loss: 0.3476 - val_accuracy: 0.8760\n",
      "Epoch 7/20\n",
      "1500/1500 [==============================] - 9s 6ms/step - loss: 0.3183 - accuracy: 0.8829 - val_loss: 0.3457 - val_accuracy: 0.8723\n",
      "Epoch 8/20\n",
      "1500/1500 [==============================] - 8s 5ms/step - loss: 0.3107 - accuracy: 0.8843 - val_loss: 0.3270 - val_accuracy: 0.8817\n",
      "Epoch 9/20\n",
      "1500/1500 [==============================] - 6s 4ms/step - loss: 0.2983 - accuracy: 0.8880 - val_loss: 0.3362 - val_accuracy: 0.8766\n",
      "Epoch 10/20\n",
      "1500/1500 [==============================] - 7s 5ms/step - loss: 0.2921 - accuracy: 0.8915 - val_loss: 0.3240 - val_accuracy: 0.8867\n",
      "Epoch 11/20\n",
      "1500/1500 [==============================] - 6s 4ms/step - loss: 0.2846 - accuracy: 0.8943 - val_loss: 0.3212 - val_accuracy: 0.8872\n",
      "Epoch 12/20\n",
      "1500/1500 [==============================] - 7s 4ms/step - loss: 0.2791 - accuracy: 0.8966 - val_loss: 0.3181 - val_accuracy: 0.8865\n",
      "Epoch 13/20\n",
      "1500/1500 [==============================] - 9s 6ms/step - loss: 0.2715 - accuracy: 0.8980 - val_loss: 0.3227 - val_accuracy: 0.8854\n",
      "Epoch 14/20\n",
      "1500/1500 [==============================] - 8s 6ms/step - loss: 0.2689 - accuracy: 0.8998 - val_loss: 0.3133 - val_accuracy: 0.8904\n",
      "Epoch 15/20\n",
      "1500/1500 [==============================] - 9s 6ms/step - loss: 0.2648 - accuracy: 0.9014 - val_loss: 0.3250 - val_accuracy: 0.8906\n",
      "Epoch 16/20\n",
      "1500/1500 [==============================] - 9s 6ms/step - loss: 0.2581 - accuracy: 0.9031 - val_loss: 0.3073 - val_accuracy: 0.8916\n",
      "Epoch 17/20\n",
      "1500/1500 [==============================] - 8s 6ms/step - loss: 0.2539 - accuracy: 0.9035 - val_loss: 0.3288 - val_accuracy: 0.8884\n",
      "Epoch 18/20\n",
      "1500/1500 [==============================] - 9s 6ms/step - loss: 0.2490 - accuracy: 0.9070 - val_loss: 0.3350 - val_accuracy: 0.8880\n"
     ]
    },
    {
     "data": {
      "text/plain": [
       "<keras.callbacks.History at 0x2455a7d7f10>"
      ]
     },
     "execution_count": 23,
     "metadata": {},
     "output_type": "execute_result"
    }
   ],
   "source": [
    "model4.compile(optimizer='adam',\n",
    "              loss=tf.keras.losses.SparseCategoricalCrossentropy(),\n",
    "              metrics=['accuracy'])\n",
    "\n",
    "model4.fit(train_images, train_labels, epochs=20, validation_split=0.2, callbacks=[early_stopping, tensorboard])"
   ]
  },
  {
   "cell_type": "code",
   "execution_count": 24,
   "id": "4971dc30",
   "metadata": {},
   "outputs": [
    {
     "name": "stdout",
     "output_type": "stream",
     "text": [
      "313/313 [==============================] - 1s 3ms/step - loss: 0.3613 - accuracy: 0.8806\n"
     ]
    }
   ],
   "source": [
    "result4 = model4.evaluate(test_images, test_labels)"
   ]
  },
  {
   "cell_type": "markdown",
   "id": "98a7e0bc",
   "metadata": {},
   "source": [
    "# 5. Relu / He / Batch_Norm"
   ]
  },
  {
   "cell_type": "code",
   "execution_count": 25,
   "id": "8045e550",
   "metadata": {},
   "outputs": [],
   "source": [
    "model5 = tf.keras.Sequential([\n",
    "    tf.keras.layers.Flatten(input_shape=(28, 28)),\n",
    "    tf.keras.layers.BatchNormalization(),\n",
    "    tf.keras.layers.Dense(128, activation='relu', kernel_initializer = He_Init),\n",
    "    tf.keras.layers.BatchNormalization(),\n",
    "    tf.keras.layers.Dense(128, activation='relu', kernel_initializer = He_Init),\n",
    "    tf.keras.layers.BatchNormalization(),\n",
    "    tf.keras.layers.Dense(128, activation='relu', kernel_initializer = He_Init),\n",
    "    tf.keras.layers.Dense(10, activation='softmax')\n",
    "])"
   ]
  },
  {
   "cell_type": "code",
   "execution_count": 26,
   "id": "5d722f04",
   "metadata": {
    "scrolled": false
   },
   "outputs": [
    {
     "name": "stdout",
     "output_type": "stream",
     "text": [
      "Epoch 1/20\n",
      "1500/1500 [==============================] - 12s 7ms/step - loss: 0.4943 - accuracy: 0.8222 - val_loss: 0.3811 - val_accuracy: 0.8595\n",
      "Epoch 2/20\n",
      "1500/1500 [==============================] - 10s 7ms/step - loss: 0.3766 - accuracy: 0.8608 - val_loss: 0.3670 - val_accuracy: 0.8641\n",
      "Epoch 3/20\n",
      "1500/1500 [==============================] - 10s 7ms/step - loss: 0.3384 - accuracy: 0.8755 - val_loss: 0.3581 - val_accuracy: 0.8694\n",
      "Epoch 4/20\n",
      "1500/1500 [==============================] - 10s 7ms/step - loss: 0.3155 - accuracy: 0.8834 - val_loss: 0.3125 - val_accuracy: 0.8861\n",
      "Epoch 5/20\n",
      "1500/1500 [==============================] - 11s 7ms/step - loss: 0.2976 - accuracy: 0.8881 - val_loss: 0.3230 - val_accuracy: 0.8822\n",
      "Epoch 6/20\n",
      "1500/1500 [==============================] - 11s 8ms/step - loss: 0.2815 - accuracy: 0.8962 - val_loss: 0.3160 - val_accuracy: 0.8842\n"
     ]
    },
    {
     "data": {
      "text/plain": [
       "<keras.callbacks.History at 0x245d3e80eb0>"
      ]
     },
     "execution_count": 26,
     "metadata": {},
     "output_type": "execute_result"
    }
   ],
   "source": [
    "model5.compile(optimizer='adam',\n",
    "              loss=tf.keras.losses.SparseCategoricalCrossentropy(),\n",
    "              metrics=['accuracy'])\n",
    "\n",
    "model5.fit(train_images, train_labels, epochs=20, validation_split=0.2, callbacks=[early_stopping, tensorboard])"
   ]
  },
  {
   "cell_type": "code",
   "execution_count": 29,
   "id": "2a4053fc",
   "metadata": {
    "scrolled": true
   },
   "outputs": [
    {
     "name": "stdout",
     "output_type": "stream",
     "text": [
      "313/313 [==============================] - 1s 4ms/step - loss: 0.3406 - accuracy: 0.8782\n"
     ]
    }
   ],
   "source": [
    "result5 = model5.evaluate(test_images, test_labels)"
   ]
  },
  {
   "cell_type": "code",
   "execution_count": 30,
   "id": "42a4574c",
   "metadata": {
    "scrolled": true
   },
   "outputs": [
    {
     "data": {
      "text/plain": [
       "Reusing TensorBoard on port 6006 (pid 6652), started 0:55:21 ago. (Use '!kill 6652' to kill it.)"
      ]
     },
     "metadata": {},
     "output_type": "display_data"
    },
    {
     "data": {
      "text/html": [
       "\n",
       "      <iframe id=\"tensorboard-frame-bafad5db6ae7c835\" width=\"100%\" height=\"800\" frameborder=\"0\">\n",
       "      </iframe>\n",
       "      <script>\n",
       "        (function() {\n",
       "          const frame = document.getElementById(\"tensorboard-frame-bafad5db6ae7c835\");\n",
       "          const url = new URL(\"/\", window.location);\n",
       "          const port = 6006;\n",
       "          if (port) {\n",
       "            url.port = port;\n",
       "          }\n",
       "          frame.src = url;\n",
       "        })();\n",
       "      </script>\n",
       "    "
      ],
      "text/plain": [
       "<IPython.core.display.HTML object>"
      ]
     },
     "metadata": {},
     "output_type": "display_data"
    }
   ],
   "source": [
    "%tensorboard --logdir logs/fit"
   ]
  }
 ],
 "metadata": {
  "kernelspec": {
   "display_name": "Python 3 (ipykernel)",
   "language": "python",
   "name": "python3"
  },
  "language_info": {
   "codemirror_mode": {
    "name": "ipython",
    "version": 3
   },
   "file_extension": ".py",
   "mimetype": "text/x-python",
   "name": "python",
   "nbconvert_exporter": "python",
   "pygments_lexer": "ipython3",
   "version": "3.9.7"
  }
 },
 "nbformat": 4,
 "nbformat_minor": 5
}
