{
 "cells": [
  {
   "cell_type": "code",
   "execution_count": 1,
   "id": "7922d16f",
   "metadata": {},
   "outputs": [],
   "source": [
    "import tensorflow as tf\n",
    "import numpy as np\n",
    "import datetime"
   ]
  },
  {
   "cell_type": "code",
   "execution_count": 2,
   "id": "d71fb2cd",
   "metadata": {},
   "outputs": [],
   "source": [
    "%load_ext tensorboard"
   ]
  },
  {
   "cell_type": "code",
   "execution_count": 3,
   "id": "f59680ea",
   "metadata": {},
   "outputs": [],
   "source": [
    "cifar10 = tf.keras.datasets.cifar10\n",
    "\n",
    "(train_images, train_labels), (test_images, test_labels) = cifar10.load_data()"
   ]
  },
  {
   "cell_type": "code",
   "execution_count": 4,
   "id": "feeab509",
   "metadata": {},
   "outputs": [],
   "source": [
    "train_images = train_images / 255.0\n",
    "\n",
    "test_images = test_images / 255.0"
   ]
  },
  {
   "cell_type": "code",
   "execution_count": 5,
   "id": "01007bde",
   "metadata": {},
   "outputs": [
    {
     "data": {
      "text/plain": [
       "((50000, 32, 32, 3), (50000, 1))"
      ]
     },
     "execution_count": 5,
     "metadata": {},
     "output_type": "execute_result"
    }
   ],
   "source": [
    "train_images.shape, train_labels.shape"
   ]
  },
  {
   "cell_type": "code",
   "execution_count": 35,
   "id": "144812f0",
   "metadata": {},
   "outputs": [
    {
     "data": {
      "text/plain": [
       "array([[6],\n",
       "       [9],\n",
       "       [9],\n",
       "       [4],\n",
       "       [1],\n",
       "       [1],\n",
       "       [2],\n",
       "       [7],\n",
       "       [8],\n",
       "       [3]], dtype=uint8)"
      ]
     },
     "execution_count": 35,
     "metadata": {},
     "output_type": "execute_result"
    }
   ],
   "source": [
    "train_labels[:10]"
   ]
  },
  {
   "cell_type": "code",
   "execution_count": 7,
   "id": "5cfe3154",
   "metadata": {},
   "outputs": [],
   "source": [
    "inputs = tf.keras.Input(shape = (32, 32, 3))\n",
    "\n",
    "Layer01_Conv = tf.keras.layers.Conv2D(3, 32, strides=(1, 1), padding='same')(inputs)\n",
    "Layer01_Norm = tf.keras.layers.BatchNormalization()(Layer01_Conv)\n",
    "Layer01_Relu = tf.keras.layers.ReLU()(Layer01_Norm)\n",
    "Layer01_Pool = tf.keras.layers.MaxPool2D((2, 2), padding='same')(Layer01_Relu)\n",
    "\n",
    "Layer02_Conv = tf.keras.layers.Conv2D(3, 64, strides=(1, 1), padding='same')(Layer01_Pool)\n",
    "Layer02_Norm = tf.keras.layers.BatchNormalization()(Layer02_Conv)\n",
    "Layer02_Relu = tf.keras.layers.ReLU()(Layer02_Norm)\n",
    "Layer02_Pool = tf.keras.layers.MaxPool2D((2, 2), padding='same')(Layer02_Relu)\n",
    "\n",
    "Layer03_Conv = tf.keras.layers.Conv2D(3, 128, strides=(1, 1), padding='same')(Layer02_Pool)\n",
    "Layer03_Norm = tf.keras.layers.BatchNormalization()(Layer03_Conv)\n",
    "Layer03_Relu = tf.keras.layers.ReLU()(Layer03_Norm)\n",
    "Layer03_Pool = tf.keras.layers.MaxPool2D((2, 2), padding='same')(Layer03_Relu)\n",
    "\n",
    "Layer_Flatten = tf.keras.layers.Flatten()(Layer03_Pool)\n",
    "\n",
    "Layer04_Dens = tf.keras.layers.Dense(int(Layer_Flatten.shape[1]))(Layer_Flatten)\n",
    "Layer04_Norm = tf.keras.layers.BatchNormalization()(Layer04_Dens)\n",
    "Layer04_Relu = tf.keras.layers.ReLU()(Layer04_Norm)\n",
    "\n",
    "Layer_Dropout = tf.keras.layers.Dropout(0.4)(Layer04_Relu)\n",
    "\n",
    "Classifier = tf.keras.layers.Dense(10, activation='softmax')(Layer_Dropout)"
   ]
  },
  {
   "cell_type": "code",
   "execution_count": 9,
   "id": "a78f7235",
   "metadata": {},
   "outputs": [
    {
     "name": "stdout",
     "output_type": "stream",
     "text": [
      "Model: \"model_1\"\n",
      "_________________________________________________________________\n",
      " Layer (type)                Output Shape              Param #   \n",
      "=================================================================\n",
      " input_2 (InputLayer)        [(None, 32, 32, 3)]       0         \n",
      "                                                                 \n",
      " conv2d_3 (Conv2D)           (None, 32, 32, 3)         9219      \n",
      "                                                                 \n",
      " batch_normalization_4 (Batc  (None, 32, 32, 3)        12        \n",
      " hNormalization)                                                 \n",
      "                                                                 \n",
      " re_lu_4 (ReLU)              (None, 32, 32, 3)         0         \n",
      "                                                                 \n",
      " max_pooling2d_3 (MaxPooling  (None, 16, 16, 3)        0         \n",
      " 2D)                                                             \n",
      "                                                                 \n",
      " conv2d_4 (Conv2D)           (None, 16, 16, 3)         36867     \n",
      "                                                                 \n",
      " batch_normalization_5 (Batc  (None, 16, 16, 3)        12        \n",
      " hNormalization)                                                 \n",
      "                                                                 \n",
      " re_lu_5 (ReLU)              (None, 16, 16, 3)         0         \n",
      "                                                                 \n",
      " max_pooling2d_4 (MaxPooling  (None, 8, 8, 3)          0         \n",
      " 2D)                                                             \n",
      "                                                                 \n",
      " conv2d_5 (Conv2D)           (None, 8, 8, 3)           147459    \n",
      "                                                                 \n",
      " batch_normalization_6 (Batc  (None, 8, 8, 3)          12        \n",
      " hNormalization)                                                 \n",
      "                                                                 \n",
      " re_lu_6 (ReLU)              (None, 8, 8, 3)           0         \n",
      "                                                                 \n",
      " max_pooling2d_5 (MaxPooling  (None, 4, 4, 3)          0         \n",
      " 2D)                                                             \n",
      "                                                                 \n",
      " flatten_1 (Flatten)         (None, 48)                0         \n",
      "                                                                 \n",
      " dense_1 (Dense)             (None, 48)                2352      \n",
      "                                                                 \n",
      " batch_normalization_7 (Batc  (None, 48)               192       \n",
      " hNormalization)                                                 \n",
      "                                                                 \n",
      " re_lu_7 (ReLU)              (None, 48)                0         \n",
      "                                                                 \n",
      " dropout_1 (Dropout)         (None, 48)                0         \n",
      "                                                                 \n",
      " dense_2 (Dense)             (None, 10)                490       \n",
      "                                                                 \n",
      "=================================================================\n",
      "Total params: 196,615\n",
      "Trainable params: 196,501\n",
      "Non-trainable params: 114\n",
      "_________________________________________________________________\n"
     ]
    }
   ],
   "source": [
    "model1 = tf.keras.Model(inputs, Classifier)\n",
    "model1.summary()"
   ]
  },
  {
   "cell_type": "code",
   "execution_count": 10,
   "id": "c57154a2",
   "metadata": {},
   "outputs": [],
   "source": [
    "early_stopping = tf.keras.callbacks.EarlyStopping(monitor='val_loss', patience = 2)\n",
    "\n",
    "log_dir = \"logs/fit/\" + datetime.datetime.now().strftime(\"%Y%m%d-%H%M%S\")\n",
    "tensorboard = tf.keras.callbacks.TensorBoard(log_dir=log_dir, histogram_freq=1)"
   ]
  },
  {
   "cell_type": "code",
   "execution_count": 11,
   "id": "cb5e302d",
   "metadata": {},
   "outputs": [],
   "source": [
    "model1.compile(optimizer='adam',\n",
    "              loss=tf.keras.losses.SparseCategoricalCrossentropy(),\n",
    "              metrics=['accuracy'])"
   ]
  },
  {
   "cell_type": "code",
   "execution_count": 12,
   "id": "c2a37822",
   "metadata": {},
   "outputs": [
    {
     "name": "stdout",
     "output_type": "stream",
     "text": [
      "Epoch 1/20\n",
      "1250/1250 [==============================] - 36s 27ms/step - loss: 1.9644 - accuracy: 0.2848 - val_loss: 1.7767 - val_accuracy: 0.3368\n",
      "Epoch 2/20\n",
      "1250/1250 [==============================] - 33s 27ms/step - loss: 1.6972 - accuracy: 0.3826 - val_loss: 1.7983 - val_accuracy: 0.3424\n",
      "Epoch 3/20\n",
      "1250/1250 [==============================] - 33s 27ms/step - loss: 1.6214 - accuracy: 0.4132 - val_loss: 1.8158 - val_accuracy: 0.3526\n"
     ]
    },
    {
     "data": {
      "text/plain": [
       "<keras.callbacks.History at 0x26fc3371e50>"
      ]
     },
     "execution_count": 12,
     "metadata": {},
     "output_type": "execute_result"
    }
   ],
   "source": [
    "model1.fit(train_images, train_labels, epochs=20, validation_split=0.2, callbacks=[early_stopping, tensorboard])"
   ]
  },
  {
   "cell_type": "code",
   "execution_count": 13,
   "id": "481fc5d4",
   "metadata": {},
   "outputs": [
    {
     "name": "stdout",
     "output_type": "stream",
     "text": [
      "313/313 [==============================] - 3s 9ms/step - loss: 1.8013 - accuracy: 0.3530\n"
     ]
    },
    {
     "data": {
      "text/plain": [
       "[1.8012778759002686, 0.3529999852180481]"
      ]
     },
     "execution_count": 13,
     "metadata": {},
     "output_type": "execute_result"
    }
   ],
   "source": [
    "model1.evaluate(test_images, test_labels)"
   ]
  },
  {
   "cell_type": "code",
   "execution_count": 15,
   "id": "072b917c",
   "metadata": {},
   "outputs": [],
   "source": [
    "inputs = tf.keras.Input(shape = (32, 32, 3))\n",
    "\n",
    "Data_Augmentation = tf.keras.Sequential([\n",
    "  tf.keras.layers.experimental.preprocessing.RandomFlip(\"horizontal_and_vertical\"),\n",
    "  tf.keras.layers.experimental.preprocessing.RandomRotation(0.2),\n",
    "])(inputs)\n",
    "\n",
    "Layer01_Conv = tf.keras.layers.Conv2D(3, 32, strides=(1, 1), padding='same')(Data_Augmentation)\n",
    "Layer01_Norm = tf.keras.layers.BatchNormalization()(Layer01_Conv)\n",
    "Layer01_Relu = tf.keras.layers.ReLU()(Layer01_Norm)\n",
    "Layer01_Pool = tf.keras.layers.MaxPool2D((2, 2), padding='same')(Layer01_Relu)\n",
    "\n",
    "Layer02_Conv = tf.keras.layers.Conv2D(3, 64, strides=(1, 1), padding='same')(Layer01_Pool)\n",
    "Layer02_Norm = tf.keras.layers.BatchNormalization()(Layer02_Conv)\n",
    "Layer02_Relu = tf.keras.layers.ReLU()(Layer02_Norm)\n",
    "Layer02_Pool = tf.keras.layers.MaxPool2D((2, 2), padding='same')(Layer02_Relu)\n",
    "\n",
    "Layer03_Conv = tf.keras.layers.Conv2D(3, 128, strides=(1, 1), padding='same')(Layer02_Pool)\n",
    "Layer03_Norm = tf.keras.layers.BatchNormalization()(Layer03_Conv)\n",
    "Layer03_Relu = tf.keras.layers.ReLU()(Layer03_Norm)\n",
    "Layer03_Pool = tf.keras.layers.MaxPool2D((2, 2), padding='same')(Layer03_Relu)\n",
    "\n",
    "Layer_Flatten = tf.keras.layers.Flatten()(Layer03_Pool)\n",
    "\n",
    "Layer04_Dens = tf.keras.layers.Dense(int(Layer_Flatten.shape[1]))(Layer_Flatten)\n",
    "Layer04_Norm = tf.keras.layers.BatchNormalization()(Layer04_Dens)\n",
    "Layer04_Relu = tf.keras.layers.ReLU()(Layer04_Norm)\n",
    "\n",
    "Layer_Dropout = tf.keras.layers.Dropout(0.4)(Layer04_Relu)\n",
    "\n",
    "Classifier = tf.keras.layers.Dense(10, activation='softmax')(Layer_Dropout)"
   ]
  },
  {
   "cell_type": "code",
   "execution_count": 16,
   "id": "e917e630",
   "metadata": {},
   "outputs": [],
   "source": [
    "model2 = tf.keras.Model(inputs, Classifier)"
   ]
  },
  {
   "cell_type": "code",
   "execution_count": 17,
   "id": "2eb02f19",
   "metadata": {
    "scrolled": true
   },
   "outputs": [
    {
     "name": "stdout",
     "output_type": "stream",
     "text": [
      "Model: \"model_2\"\n",
      "_________________________________________________________________\n",
      " Layer (type)                Output Shape              Param #   \n",
      "=================================================================\n",
      " input_3 (InputLayer)        [(None, 32, 32, 3)]       0         \n",
      "                                                                 \n",
      " sequential_1 (Sequential)   (None, 32, 32, 3)         0         \n",
      "                                                                 \n",
      " conv2d_6 (Conv2D)           (None, 32, 32, 3)         9219      \n",
      "                                                                 \n",
      " batch_normalization_8 (Batc  (None, 32, 32, 3)        12        \n",
      " hNormalization)                                                 \n",
      "                                                                 \n",
      " re_lu_8 (ReLU)              (None, 32, 32, 3)         0         \n",
      "                                                                 \n",
      " max_pooling2d_6 (MaxPooling  (None, 16, 16, 3)        0         \n",
      " 2D)                                                             \n",
      "                                                                 \n",
      " conv2d_7 (Conv2D)           (None, 16, 16, 3)         36867     \n",
      "                                                                 \n",
      " batch_normalization_9 (Batc  (None, 16, 16, 3)        12        \n",
      " hNormalization)                                                 \n",
      "                                                                 \n",
      " re_lu_9 (ReLU)              (None, 16, 16, 3)         0         \n",
      "                                                                 \n",
      " max_pooling2d_7 (MaxPooling  (None, 8, 8, 3)          0         \n",
      " 2D)                                                             \n",
      "                                                                 \n",
      " conv2d_8 (Conv2D)           (None, 8, 8, 3)           147459    \n",
      "                                                                 \n",
      " batch_normalization_10 (Bat  (None, 8, 8, 3)          12        \n",
      " chNormalization)                                                \n",
      "                                                                 \n",
      " re_lu_10 (ReLU)             (None, 8, 8, 3)           0         \n",
      "                                                                 \n",
      " max_pooling2d_8 (MaxPooling  (None, 4, 4, 3)          0         \n",
      " 2D)                                                             \n",
      "                                                                 \n",
      " flatten_2 (Flatten)         (None, 48)                0         \n",
      "                                                                 \n",
      " dense_3 (Dense)             (None, 48)                2352      \n",
      "                                                                 \n",
      " batch_normalization_11 (Bat  (None, 48)               192       \n",
      " chNormalization)                                                \n",
      "                                                                 \n",
      " re_lu_11 (ReLU)             (None, 48)                0         \n",
      "                                                                 \n",
      " dropout_2 (Dropout)         (None, 48)                0         \n",
      "                                                                 \n",
      " dense_4 (Dense)             (None, 10)                490       \n",
      "                                                                 \n",
      "=================================================================\n",
      "Total params: 196,615\n",
      "Trainable params: 196,501\n",
      "Non-trainable params: 114\n",
      "_________________________________________________________________\n"
     ]
    }
   ],
   "source": [
    "model2.summary()"
   ]
  },
  {
   "cell_type": "code",
   "execution_count": 18,
   "id": "077efab2",
   "metadata": {},
   "outputs": [],
   "source": [
    "model2.compile(optimizer='adam',\n",
    "              loss=tf.keras.losses.SparseCategoricalCrossentropy(),\n",
    "              metrics=['accuracy'])"
   ]
  },
  {
   "cell_type": "code",
   "execution_count": 19,
   "id": "61d5366e",
   "metadata": {
    "scrolled": true
   },
   "outputs": [
    {
     "name": "stdout",
     "output_type": "stream",
     "text": [
      "Epoch 1/40\n",
      "1250/1250 [==============================] - 36s 28ms/step - loss: 2.1172 - accuracy: 0.2233 - val_loss: 1.9540 - val_accuracy: 0.2825\n",
      "Epoch 2/40\n",
      "1250/1250 [==============================] - 35s 28ms/step - loss: 1.9446 - accuracy: 0.2923 - val_loss: 2.0739 - val_accuracy: 0.2694\n",
      "Epoch 3/40\n",
      "1250/1250 [==============================] - 34s 27ms/step - loss: 1.8873 - accuracy: 0.3180 - val_loss: 1.8510 - val_accuracy: 0.3345\n",
      "Epoch 4/40\n",
      "1250/1250 [==============================] - 34s 27ms/step - loss: 1.8543 - accuracy: 0.3338 - val_loss: 1.8071 - val_accuracy: 0.3368\n",
      "Epoch 5/40\n",
      "1250/1250 [==============================] - 35s 28ms/step - loss: 1.8323 - accuracy: 0.3404 - val_loss: 1.7697 - val_accuracy: 0.3563\n",
      "Epoch 6/40\n",
      "1250/1250 [==============================] - 35s 28ms/step - loss: 1.8099 - accuracy: 0.3527 - val_loss: 2.0203 - val_accuracy: 0.2932\n",
      "Epoch 7/40\n",
      "1250/1250 [==============================] - 35s 28ms/step - loss: 1.7908 - accuracy: 0.3537 - val_loss: 1.6734 - val_accuracy: 0.4008\n",
      "Epoch 8/40\n",
      "1250/1250 [==============================] - 35s 28ms/step - loss: 1.7791 - accuracy: 0.3637 - val_loss: 1.8046 - val_accuracy: 0.3470\n",
      "Epoch 9/40\n",
      "1250/1250 [==============================] - 35s 28ms/step - loss: 1.7694 - accuracy: 0.3680 - val_loss: 1.7119 - val_accuracy: 0.3854\n"
     ]
    },
    {
     "data": {
      "text/plain": [
       "<keras.callbacks.History at 0x270390a7640>"
      ]
     },
     "execution_count": 19,
     "metadata": {},
     "output_type": "execute_result"
    }
   ],
   "source": [
    "model2.fit(train_images, train_labels, epochs=40, validation_split=0.2, callbacks=[early_stopping, tensorboard])"
   ]
  },
  {
   "cell_type": "code",
   "execution_count": 20,
   "id": "43651152",
   "metadata": {},
   "outputs": [
    {
     "name": "stdout",
     "output_type": "stream",
     "text": [
      "313/313 [==============================] - 3s 9ms/step - loss: 1.6824 - accuracy: 0.3920\n"
     ]
    },
    {
     "data": {
      "text/plain": [
       "[1.6824030876159668, 0.3919999897480011]"
      ]
     },
     "execution_count": 20,
     "metadata": {},
     "output_type": "execute_result"
    }
   ],
   "source": [
    "model2.evaluate(test_images, test_labels)"
   ]
  },
  {
   "cell_type": "code",
   "execution_count": 6,
   "id": "cbbfcdde",
   "metadata": {},
   "outputs": [],
   "source": [
    "inputs = tf.keras.Input(shape = (32, 32, 3))\n",
    "VGG16 = tf.keras.applications.vgg16.VGG16(include_top=False, weights='imagenet', input_shape= (32, 32, 3))(inputs)\n",
    "pool = tf.keras.layers.GlobalMaxPool2D()(VGG16)\n",
    "Layer_Dropout = tf.keras.layers.Dropout(0.1)(pool)\n",
    "\n",
    "Classifier = tf.keras.layers.Dense(10, activation='softmax')(Layer_Dropout)"
   ]
  },
  {
   "cell_type": "code",
   "execution_count": 7,
   "id": "49fed1b8",
   "metadata": {},
   "outputs": [
    {
     "name": "stdout",
     "output_type": "stream",
     "text": [
      "Model: \"model\"\n",
      "_________________________________________________________________\n",
      " Layer (type)                Output Shape              Param #   \n",
      "=================================================================\n",
      " input_1 (InputLayer)        [(None, 32, 32, 3)]       0         \n",
      "                                                                 \n",
      " vgg16 (Functional)          (None, 1, 1, 512)         14714688  \n",
      "                                                                 \n",
      " global_max_pooling2d (Globa  (None, 512)              0         \n",
      " lMaxPooling2D)                                                  \n",
      "                                                                 \n",
      " dropout (Dropout)           (None, 512)               0         \n",
      "                                                                 \n",
      " dense (Dense)               (None, 10)                5130      \n",
      "                                                                 \n",
      "=================================================================\n",
      "Total params: 14,719,818\n",
      "Trainable params: 14,719,818\n",
      "Non-trainable params: 0\n",
      "_________________________________________________________________\n"
     ]
    }
   ],
   "source": [
    "model3 = tf.keras.Model(inputs, Classifier)\n",
    "model3.summary()"
   ]
  },
  {
   "cell_type": "code",
   "execution_count": 8,
   "id": "54769e5b",
   "metadata": {},
   "outputs": [],
   "source": [
    "model3.compile(optimizer='adam',\n",
    "              loss=tf.keras.losses.SparseCategoricalCrossentropy(),\n",
    "              metrics=['accuracy'])"
   ]
  },
  {
   "cell_type": "code",
   "execution_count": 11,
   "id": "3ef2ee93",
   "metadata": {},
   "outputs": [
    {
     "name": "stdout",
     "output_type": "stream",
     "text": [
      "Epoch 1/40\n",
      "1250/1250 [==============================] - 60s 46ms/step - loss: 1.7938 - accuracy: 0.2880 - val_loss: 1.5105 - val_accuracy: 0.3966\n",
      "Epoch 2/40\n",
      "1250/1250 [==============================] - 57s 46ms/step - loss: 1.4339 - accuracy: 0.4432 - val_loss: 1.3411 - val_accuracy: 0.4764\n",
      "Epoch 3/40\n",
      "1250/1250 [==============================] - 57s 46ms/step - loss: 1.1582 - accuracy: 0.5763 - val_loss: 1.0354 - val_accuracy: 0.6264\n",
      "Epoch 4/40\n",
      "1250/1250 [==============================] - 58s 46ms/step - loss: 0.9732 - accuracy: 0.6520 - val_loss: 0.9001 - val_accuracy: 0.6785\n",
      "Epoch 5/40\n",
      "1250/1250 [==============================] - 58s 46ms/step - loss: 0.8294 - accuracy: 0.7090 - val_loss: 0.8494 - val_accuracy: 0.7034\n",
      "Epoch 6/40\n",
      "1250/1250 [==============================] - 58s 46ms/step - loss: 0.7502 - accuracy: 0.7397 - val_loss: 0.8462 - val_accuracy: 0.7160\n",
      "Epoch 7/40\n",
      "1250/1250 [==============================] - 58s 46ms/step - loss: 0.6743 - accuracy: 0.7681 - val_loss: 0.7578 - val_accuracy: 0.7468\n",
      "Epoch 8/40\n",
      "1250/1250 [==============================] - 58s 46ms/step - loss: 0.6081 - accuracy: 0.7936 - val_loss: 0.7615 - val_accuracy: 0.7588\n",
      "Epoch 9/40\n",
      "1250/1250 [==============================] - 58s 46ms/step - loss: 0.5264 - accuracy: 0.8233 - val_loss: 0.7476 - val_accuracy: 0.7647\n",
      "Epoch 10/40\n",
      "1250/1250 [==============================] - 58s 46ms/step - loss: 0.4569 - accuracy: 0.8500 - val_loss: 0.8596 - val_accuracy: 0.7287\n",
      "Epoch 11/40\n",
      "1250/1250 [==============================] - 59s 47ms/step - loss: 0.4458 - accuracy: 0.8515 - val_loss: 0.8525 - val_accuracy: 0.7753\n"
     ]
    },
    {
     "data": {
      "text/plain": [
       "<keras.callbacks.History at 0x25b6a741910>"
      ]
     },
     "execution_count": 11,
     "metadata": {},
     "output_type": "execute_result"
    }
   ],
   "source": [
    "model3.fit(train_images, train_labels, epochs=40, validation_split=0.2, callbacks=[early_stopping, tensorboard])"
   ]
  },
  {
   "cell_type": "code",
   "execution_count": 12,
   "id": "53145cb2",
   "metadata": {},
   "outputs": [
    {
     "name": "stdout",
     "output_type": "stream",
     "text": [
      "313/313 [==============================] - 4s 11ms/step - loss: 0.8291 - accuracy: 0.7678\n"
     ]
    },
    {
     "data": {
      "text/plain": [
       "[0.8291093707084656, 0.767799973487854]"
      ]
     },
     "execution_count": 12,
     "metadata": {},
     "output_type": "execute_result"
    }
   ],
   "source": [
    "model3.evaluate(test_images, test_labels)"
   ]
  },
  {
   "cell_type": "code",
   "execution_count": 14,
   "id": "a32376b5",
   "metadata": {},
   "outputs": [],
   "source": [
    "inputs = tf.keras.Input(shape = (32, 32, 3))\n",
    "\n",
    "Layer01_Conv = tf.keras.layers.Conv2D(3, 3, strides=(1, 1), padding='valid', activation = 'relu')(inputs)\n",
    "Layer02_Conv = tf.keras.layers.Conv2D(3, 3, strides=(1, 1), padding='valid', activation = 'relu')(Layer01_Conv)\n",
    "Layer03_Pool = tf.keras.layers.MaxPool2D((2, 2), padding='valid')(Layer02_Conv)\n",
    "Layer_Flatten = tf.keras.layers.Flatten()(Layer03_Pool)\n",
    "\n",
    "Layer_Dropout = tf.keras.layers.Dropout(0.1)(Layer_Flatten)\n",
    "\n",
    "Classifier = tf.keras.layers.Dense(10, activation='softmax')(Layer_Dropout)"
   ]
  },
  {
   "cell_type": "code",
   "execution_count": 15,
   "id": "adf38503",
   "metadata": {},
   "outputs": [
    {
     "name": "stdout",
     "output_type": "stream",
     "text": [
      "Model: \"model_1\"\n",
      "_________________________________________________________________\n",
      " Layer (type)                Output Shape              Param #   \n",
      "=================================================================\n",
      " input_4 (InputLayer)        [(None, 32, 32, 3)]       0         \n",
      "                                                                 \n",
      " conv2d_2 (Conv2D)           (None, 30, 30, 3)         84        \n",
      "                                                                 \n",
      " conv2d_3 (Conv2D)           (None, 28, 28, 3)         84        \n",
      "                                                                 \n",
      " max_pooling2d_1 (MaxPooling  (None, 14, 14, 3)        0         \n",
      " 2D)                                                             \n",
      "                                                                 \n",
      " flatten_1 (Flatten)         (None, 588)               0         \n",
      "                                                                 \n",
      " dropout_2 (Dropout)         (None, 588)               0         \n",
      "                                                                 \n",
      " dense_1 (Dense)             (None, 10)                5890      \n",
      "                                                                 \n",
      "=================================================================\n",
      "Total params: 6,058\n",
      "Trainable params: 6,058\n",
      "Non-trainable params: 0\n",
      "_________________________________________________________________\n"
     ]
    }
   ],
   "source": [
    "model4 = tf.keras.Model(inputs, Classifier)\n",
    "model4.summary()"
   ]
  },
  {
   "cell_type": "code",
   "execution_count": 16,
   "id": "75a9b261",
   "metadata": {},
   "outputs": [],
   "source": [
    "model4.compile(optimizer='adam',\n",
    "              loss=tf.keras.losses.SparseCategoricalCrossentropy(),\n",
    "              metrics=['accuracy'])"
   ]
  },
  {
   "cell_type": "code",
   "execution_count": 17,
   "id": "871a1a37",
   "metadata": {},
   "outputs": [
    {
     "name": "stdout",
     "output_type": "stream",
     "text": [
      "Epoch 1/40\n",
      "1250/1250 [==============================] - 5s 4ms/step - loss: 1.8102 - accuracy: 0.3491 - val_loss: 1.6544 - val_accuracy: 0.4098\n",
      "Epoch 2/40\n",
      "1250/1250 [==============================] - 4s 3ms/step - loss: 1.6042 - accuracy: 0.4314 - val_loss: 1.5705 - val_accuracy: 0.4446\n",
      "Epoch 3/40\n",
      "1250/1250 [==============================] - 4s 3ms/step - loss: 1.5477 - accuracy: 0.4522 - val_loss: 1.5536 - val_accuracy: 0.4511\n",
      "Epoch 4/40\n",
      "1250/1250 [==============================] - 4s 3ms/step - loss: 1.5227 - accuracy: 0.4620 - val_loss: 1.5147 - val_accuracy: 0.4729\n",
      "Epoch 5/40\n",
      "1250/1250 [==============================] - 4s 3ms/step - loss: 1.5088 - accuracy: 0.4703 - val_loss: 1.5020 - val_accuracy: 0.4706\n",
      "Epoch 6/40\n",
      "1250/1250 [==============================] - 4s 3ms/step - loss: 1.4974 - accuracy: 0.4747 - val_loss: 1.5071 - val_accuracy: 0.4722\n",
      "Epoch 7/40\n",
      "1250/1250 [==============================] - 4s 3ms/step - loss: 1.4897 - accuracy: 0.4770 - val_loss: 1.5125 - val_accuracy: 0.4748\n"
     ]
    },
    {
     "data": {
      "text/plain": [
       "<keras.callbacks.History at 0x25c0c641640>"
      ]
     },
     "execution_count": 17,
     "metadata": {},
     "output_type": "execute_result"
    }
   ],
   "source": [
    "model4.fit(train_images, train_labels, epochs=40, validation_split=0.2, callbacks=[early_stopping, tensorboard])"
   ]
  },
  {
   "cell_type": "code",
   "execution_count": 18,
   "id": "c2eb2caa",
   "metadata": {},
   "outputs": [
    {
     "name": "stdout",
     "output_type": "stream",
     "text": [
      "313/313 [==============================] - 1s 3ms/step - loss: 1.5016 - accuracy: 0.4755\n"
     ]
    },
    {
     "data": {
      "text/plain": [
       "[1.501564860343933, 0.4754999876022339]"
      ]
     },
     "execution_count": 18,
     "metadata": {},
     "output_type": "execute_result"
    }
   ],
   "source": [
    "model4.evaluate(test_images, test_labels)"
   ]
  },
  {
   "cell_type": "code",
   "execution_count": null,
   "id": "6c00cbef",
   "metadata": {},
   "outputs": [],
   "source": []
  }
 ],
 "metadata": {
  "kernelspec": {
   "display_name": "Python 3 (ipykernel)",
   "language": "python",
   "name": "python3"
  },
  "language_info": {
   "codemirror_mode": {
    "name": "ipython",
    "version": 3
   },
   "file_extension": ".py",
   "mimetype": "text/x-python",
   "name": "python",
   "nbconvert_exporter": "python",
   "pygments_lexer": "ipython3",
   "version": "3.9.7"
  }
 },
 "nbformat": 4,
 "nbformat_minor": 5
}
