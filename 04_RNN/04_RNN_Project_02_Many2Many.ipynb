{
 "cells": [
  {
   "cell_type": "code",
   "execution_count": 1,
   "id": "a4a3201f",
   "metadata": {},
   "outputs": [],
   "source": [
    "import os\n",
    "import tensorflow as tf\n",
    "\n",
    "from tqdm import tqdm\n",
    "import pandas as pd\n",
    "import numpy as np\n",
    "\n",
    "import pathlib"
   ]
  },
  {
   "cell_type": "code",
   "execution_count": 2,
   "id": "3457ed76",
   "metadata": {},
   "outputs": [
    {
     "name": "stdout",
     "output_type": "stream",
     "text": [
      "Downloading data from http://images.cocodataset.org/annotations/annotations_trainval2014.zip\n",
      "252878848/252872794 [==============================] - 44s 0us/step\n",
      "252887040/252872794 [==============================] - 44s 0us/step\n",
      "Downloading data from http://images.cocodataset.org/zips/train2014.zip\n",
      "13510574080/13510573713 [==============================] - 1530s 0us/step\n",
      "13510582272/13510573713 [==============================] - 1530s 0us/step\n"
     ]
    }
   ],
   "source": [
    "# Download caption annotation files\n",
    "annotation_folder = '/annotations/'\n",
    "if not os.path.exists(os.path.abspath('.') + annotation_folder):\n",
    "  annotation_zip = tf.keras.utils.get_file('captions.zip',\n",
    "                                           cache_subdir=os.path.abspath('.'),\n",
    "                                           origin='http://images.cocodataset.org/annotations/annotations_trainval2014.zip',\n",
    "                                           extract=True)\n",
    "  annotation_file = os.path.dirname(annotation_zip)+'/annotations/captions_train2014.json'\n",
    "  os.remove(annotation_zip)\n",
    "\n",
    "# Download image files\n",
    "image_folder = '/train2014/'\n",
    "if not os.path.exists(os.path.abspath('.') + image_folder):\n",
    "  image_zip = tf.keras.utils.get_file('train2014.zip',\n",
    "                                      cache_subdir=os.path.abspath('.'),\n",
    "                                      origin='http://images.cocodataset.org/zips/train2014.zip',\n",
    "                                      extract=True)\n",
    "  PATH = os.path.dirname(image_zip) + image_folder\n",
    "  os.remove(image_zip)\n",
    "else:\n",
    "  PATH = os.path.abspath('.') + image_folder"
   ]
  },
  {
   "cell_type": "code",
   "execution_count": 3,
   "id": "7ff39add",
   "metadata": {},
   "outputs": [
    {
     "ename": "NameError",
     "evalue": "name 'json' is not defined",
     "output_type": "error",
     "traceback": [
      "\u001b[1;31m---------------------------------------------------------------------------\u001b[0m",
      "\u001b[1;31mNameError\u001b[0m                                 Traceback (most recent call last)",
      "\u001b[1;32m~\\AppData\\Local\\Temp/ipykernel_5956/535041967.py\u001b[0m in \u001b[0;36m<module>\u001b[1;34m\u001b[0m\n\u001b[0;32m      1\u001b[0m \u001b[1;32mwith\u001b[0m \u001b[0mopen\u001b[0m\u001b[1;33m(\u001b[0m\u001b[0mannotation_file\u001b[0m\u001b[1;33m,\u001b[0m \u001b[1;34m'r'\u001b[0m\u001b[1;33m)\u001b[0m \u001b[1;32mas\u001b[0m \u001b[0mf\u001b[0m\u001b[1;33m:\u001b[0m\u001b[1;33m\u001b[0m\u001b[1;33m\u001b[0m\u001b[0m\n\u001b[1;32m----> 2\u001b[1;33m     \u001b[0mannotations\u001b[0m \u001b[1;33m=\u001b[0m \u001b[0mjson\u001b[0m\u001b[1;33m.\u001b[0m\u001b[0mload\u001b[0m\u001b[1;33m(\u001b[0m\u001b[0mf\u001b[0m\u001b[1;33m)\u001b[0m\u001b[1;33m\u001b[0m\u001b[1;33m\u001b[0m\u001b[0m\n\u001b[0m",
      "\u001b[1;31mNameError\u001b[0m: name 'json' is not defined"
     ]
    }
   ],
   "source": [
    "with open(annotation_file, 'r') as f:\n",
    "    annotations = json.load(f)"
   ]
  },
  {
   "cell_type": "code",
   "execution_count": 8,
   "id": "c946835b",
   "metadata": {},
   "outputs": [],
   "source": [
    "path_to_file = pathlib.Path(path_to_zip).parent/'spa-eng/spa.txt'"
   ]
  },
  {
   "cell_type": "code",
   "execution_count": 33,
   "id": "81398281",
   "metadata": {},
   "outputs": [],
   "source": [
    "Data = pd.read_csv(path_to_file, header = None, sep = \"\\t\", encoding = \"utf-8\").dropna().reset_index(drop = True)"
   ]
  },
  {
   "cell_type": "code",
   "execution_count": 34,
   "id": "33cefb3c",
   "metadata": {},
   "outputs": [],
   "source": [
    "Data.columns = ['eng', \"esp\"]"
   ]
  },
  {
   "cell_type": "code",
   "execution_count": 35,
   "id": "ae5da23f",
   "metadata": {},
   "outputs": [],
   "source": [
    "source = list(Data.eng)\n",
    "target = list(Data.esp)"
   ]
  },
  {
   "cell_type": "code",
   "execution_count": 64,
   "id": "fa10025c",
   "metadata": {},
   "outputs": [],
   "source": [
    "source_02 = ['[CLS] ' + source[i].lower() + ' [SEP]' for i in range(len(source))]\n",
    "target_02 = ['[CLS] ' + target[i].lower() + ' [SEP]' for i in range(len(target))]"
   ]
  },
  {
   "cell_type": "code",
   "execution_count": 77,
   "id": "8d1929c4",
   "metadata": {},
   "outputs": [],
   "source": [
    "processor = tf.keras.layers.TextVectorization(max_tokens=8002)"
   ]
  },
  {
   "cell_type": "code",
   "execution_count": 78,
   "id": "08e4171f",
   "metadata": {},
   "outputs": [],
   "source": [
    "processor.adapt(source_02 + target_02)"
   ]
  },
  {
   "cell_type": "code",
   "execution_count": 113,
   "id": "e3a3be53",
   "metadata": {},
   "outputs": [],
   "source": [
    "vocab_size = len(processor.get_vocabulary()) +1\n",
    "hidden_size = 64\n",
    "batch_size = 64\n",
    "max_length = 64\n",
    "learning_rate = 0.001"
   ]
  },
  {
   "cell_type": "code",
   "execution_count": 89,
   "id": "7b08aaac",
   "metadata": {},
   "outputs": [],
   "source": [
    "source_03, target_03 = processor(source_02), processor(target_02)"
   ]
  },
  {
   "cell_type": "code",
   "execution_count": 91,
   "id": "ccddba8a",
   "metadata": {},
   "outputs": [],
   "source": [
    "source_04 =  tf.keras.preprocessing.sequence.pad_sequences(source_03, padding='post', maxlen = max_length)"
   ]
  },
  {
   "cell_type": "code",
   "execution_count": 92,
   "id": "a195a76d",
   "metadata": {},
   "outputs": [],
   "source": [
    "target_04 = tf.keras.preprocessing.sequence.pad_sequences(target_03, padding='post', maxlen = max_length)"
   ]
  },
  {
   "cell_type": "code",
   "execution_count": 94,
   "id": "c98cde1d",
   "metadata": {},
   "outputs": [
    {
     "data": {
      "text/plain": [
       "((118964, 64), (118964, 64))"
      ]
     },
     "execution_count": 94,
     "metadata": {},
     "output_type": "execute_result"
    }
   ],
   "source": [
    "source_04.shape, target_04.shape"
   ]
  },
  {
   "cell_type": "code",
   "execution_count": 98,
   "id": "fbe28fc4",
   "metadata": {},
   "outputs": [
    {
     "name": "stdout",
     "output_type": "stream",
     "text": [
      "WARNING:tensorflow:Layer gru_4 will not use cuDNN kernels since it doesn't meet the criteria. It will use a generic GPU kernel as fallback when running on GPU.\n"
     ]
    }
   ],
   "source": [
    "Encoder_Input = tf.keras.Input(shape = (max_length))\n",
    "Encoder_Embedding = tf.keras.layers.Embedding(vocab_size, hidden_size)(Encoder_Input)\n",
    "\n",
    "Encoder_GRU = tf.keras.layers.GRU(hidden_size, activation='relu', return_sequences=False, dropout = 0.1)(Encoder_Embedding)"
   ]
  },
  {
   "cell_type": "code",
   "execution_count": 114,
   "id": "b972e214",
   "metadata": {},
   "outputs": [
    {
     "name": "stdout",
     "output_type": "stream",
     "text": [
      "WARNING:tensorflow:Layer gru_8 will not use cuDNN kernels since it doesn't meet the criteria. It will use a generic GPU kernel as fallback when running on GPU.\n"
     ]
    }
   ],
   "source": [
    "Decoder_Input = tf.keras.Input(shape = (max_length))\n",
    "Decoder_Embedding = tf.keras.layers.Embedding(vocab_size, hidden_size)(Decoder_Input)\n",
    "\n",
    "Decoder_output, Decoder_state = tf.keras.layers.GRU(hidden_size, activation='relu', return_sequences=True, return_state=True, dropout = 0.1)(Decoder_Embedding)\n",
    "\n",
    "x = tf.keras.layers.Dense(vocab_size)(Decoder_output)"
   ]
  },
  {
   "cell_type": "code",
   "execution_count": 129,
   "id": "8c6aa4d4",
   "metadata": {},
   "outputs": [],
   "source": [
    "class Encoder(tf.keras.layers.Layer):\n",
    "    def __init__(self, vocab_size, hidden_size, max_length):\n",
    "        super(Encoder, self).__init__()\n",
    "        self.vocab_size = vocab_size\n",
    "        self.hidden_size = hidden_size\n",
    "        self.max_length = max_length\n",
    "        self.embedding = tf.keras.layers.Embedding(self.vocab_size, self.hidden_size)\n",
    "        self.gru = tf.keras.layers.GRU(self.max_length, return_sequences=True, return_state=True, recurrent_initializer='glorot_uniform')\n",
    "        \n",
    "    def call(self, inputs):\n",
    "        x = self.embedding(inputs)\n",
    "        outputs, states = self.gru(x)\n",
    "        \n",
    "        return outputs, states"
   ]
  },
  {
   "cell_type": "code",
   "execution_count": 130,
   "id": "304cedec",
   "metadata": {},
   "outputs": [],
   "source": [
    "enc = Encoder(vocab_size, hidden_size, max_length)"
   ]
  },
  {
   "cell_type": "code",
   "execution_count": 131,
   "id": "9ef25211",
   "metadata": {
    "scrolled": true
   },
   "outputs": [
    {
     "data": {
      "text/plain": [
       "<tf.Tensor: shape=(4, 64, 64), dtype=float32, numpy=\n",
       "array([[[ 0.00848125,  0.00416288, -0.00988456, ..., -0.00818877,\n",
       "         -0.00200402, -0.01043381],\n",
       "        [ 0.00575395,  0.00091073, -0.0180587 , ..., -0.01110739,\n",
       "         -0.00548571,  0.00170174],\n",
       "        [ 0.02157923, -0.00970342, -0.01733443, ..., -0.00873735,\n",
       "         -0.01395188, -0.0032324 ],\n",
       "        ...,\n",
       "        [ 0.05305695,  0.01100166,  0.03185636, ..., -0.02992897,\n",
       "          0.01193063,  0.01769838],\n",
       "        [ 0.05305695,  0.01100166,  0.03185636, ..., -0.02992897,\n",
       "          0.01193063,  0.01769838],\n",
       "        [ 0.05305695,  0.01100166,  0.03185636, ..., -0.02992897,\n",
       "          0.01193063,  0.01769838]],\n",
       "\n",
       "       [[ 0.00848125,  0.00416288, -0.00988456, ..., -0.00818877,\n",
       "         -0.00200402, -0.01043381],\n",
       "        [ 0.00575395,  0.00091073, -0.0180587 , ..., -0.01110739,\n",
       "         -0.00548571,  0.00170174],\n",
       "        [ 0.02157923, -0.00970342, -0.01733443, ..., -0.00873735,\n",
       "         -0.01395188, -0.0032324 ],\n",
       "        ...,\n",
       "        [ 0.05305695,  0.01100166,  0.03185636, ..., -0.02992897,\n",
       "          0.01193063,  0.01769838],\n",
       "        [ 0.05305695,  0.01100166,  0.03185636, ..., -0.02992897,\n",
       "          0.01193063,  0.01769838],\n",
       "        [ 0.05305695,  0.01100166,  0.03185636, ..., -0.02992897,\n",
       "          0.01193063,  0.01769838]],\n",
       "\n",
       "       [[ 0.00848125,  0.00416288, -0.00988456, ..., -0.00818877,\n",
       "         -0.00200402, -0.01043381],\n",
       "        [ 0.00575395,  0.00091073, -0.0180587 , ..., -0.01110739,\n",
       "         -0.00548571,  0.00170174],\n",
       "        [ 0.02157923, -0.00970342, -0.01733443, ..., -0.00873735,\n",
       "         -0.01395188, -0.0032324 ],\n",
       "        ...,\n",
       "        [ 0.05305695,  0.01100166,  0.03185636, ..., -0.02992897,\n",
       "          0.01193063,  0.01769838],\n",
       "        [ 0.05305695,  0.01100166,  0.03185636, ..., -0.02992897,\n",
       "          0.01193063,  0.01769838],\n",
       "        [ 0.05305695,  0.01100166,  0.03185636, ..., -0.02992897,\n",
       "          0.01193063,  0.01769838]],\n",
       "\n",
       "       [[ 0.00848125,  0.00416288, -0.00988456, ..., -0.00818877,\n",
       "         -0.00200402, -0.01043381],\n",
       "        [ 0.00575395,  0.00091073, -0.0180587 , ..., -0.01110739,\n",
       "         -0.00548571,  0.00170174],\n",
       "        [ 0.02157923, -0.00970342, -0.01733443, ..., -0.00873735,\n",
       "         -0.01395188, -0.0032324 ],\n",
       "        ...,\n",
       "        [ 0.05305695,  0.01100166,  0.03185636, ..., -0.02992897,\n",
       "          0.01193063,  0.01769838],\n",
       "        [ 0.05305695,  0.01100166,  0.03185636, ..., -0.02992897,\n",
       "          0.01193063,  0.01769838],\n",
       "        [ 0.05305695,  0.01100166,  0.03185636, ..., -0.02992897,\n",
       "          0.01193063,  0.01769838]]], dtype=float32)>"
      ]
     },
     "execution_count": 131,
     "metadata": {},
     "output_type": "execute_result"
    }
   ],
   "source": [
    "outputs, states = enc(source_04[:4])\n",
    "outputs"
   ]
  },
  {
   "cell_type": "code",
   "execution_count": 132,
   "id": "8b112334",
   "metadata": {
    "scrolled": true
   },
   "outputs": [
    {
     "data": {
      "text/plain": [
       "<tf.Tensor: shape=(4, 64), dtype=float32, numpy=\n",
       "array([[ 5.3056948e-02,  1.1001656e-02,  3.1856358e-02,  1.7256709e-03,\n",
       "        -1.1928906e-02, -3.7495859e-04, -1.3896550e-02,  1.9561470e-02,\n",
       "         1.8687159e-02,  1.1892814e-02, -2.6391979e-02,  5.1784851e-02,\n",
       "         2.0139676e-02,  2.8082062e-02, -4.3983545e-02, -1.1873415e-02,\n",
       "         3.9360162e-02,  3.8132682e-02,  2.9752320e-02,  2.3796085e-02,\n",
       "        -2.8523874e-02, -9.4494233e-03, -2.0592460e-02,  1.0059174e-02,\n",
       "        -2.0227259e-02,  4.2502880e-03, -5.2545192e-03, -6.3916352e-03,\n",
       "        -9.0982992e-04,  1.1030405e-02, -1.3762703e-03, -9.5622297e-03,\n",
       "         2.8065327e-03,  7.1357489e-03, -5.2410131e-03,  3.7013933e-02,\n",
       "         2.9182542e-02,  1.6783884e-02,  2.3554252e-02, -2.4742110e-02,\n",
       "        -2.7179727e-02,  2.6684754e-02,  5.2712155e-03, -3.0241318e-02,\n",
       "         2.5377160e-02,  1.7509429e-02,  2.8006691e-03,  2.4983410e-02,\n",
       "        -1.7965337e-02,  3.0183582e-02,  1.0294854e-02,  1.1469036e-02,\n",
       "        -3.1514436e-02,  3.0937819e-03, -2.3088951e-02,  9.1897687e-03,\n",
       "        -1.7272739e-02, -2.7463217e-05,  2.0888722e-02, -2.5696603e-03,\n",
       "        -3.2593764e-03, -2.9928973e-02,  1.1930628e-02,  1.7698377e-02],\n",
       "       [ 5.3056948e-02,  1.1001656e-02,  3.1856358e-02,  1.7256709e-03,\n",
       "        -1.1928906e-02, -3.7495859e-04, -1.3896550e-02,  1.9561470e-02,\n",
       "         1.8687159e-02,  1.1892814e-02, -2.6391979e-02,  5.1784851e-02,\n",
       "         2.0139676e-02,  2.8082062e-02, -4.3983545e-02, -1.1873415e-02,\n",
       "         3.9360162e-02,  3.8132682e-02,  2.9752320e-02,  2.3796085e-02,\n",
       "        -2.8523874e-02, -9.4494233e-03, -2.0592460e-02,  1.0059174e-02,\n",
       "        -2.0227259e-02,  4.2502880e-03, -5.2545192e-03, -6.3916352e-03,\n",
       "        -9.0982992e-04,  1.1030405e-02, -1.3762703e-03, -9.5622297e-03,\n",
       "         2.8065327e-03,  7.1357489e-03, -5.2410131e-03,  3.7013933e-02,\n",
       "         2.9182542e-02,  1.6783884e-02,  2.3554252e-02, -2.4742110e-02,\n",
       "        -2.7179727e-02,  2.6684754e-02,  5.2712155e-03, -3.0241318e-02,\n",
       "         2.5377160e-02,  1.7509429e-02,  2.8006691e-03,  2.4983410e-02,\n",
       "        -1.7965337e-02,  3.0183582e-02,  1.0294854e-02,  1.1469036e-02,\n",
       "        -3.1514436e-02,  3.0937819e-03, -2.3088951e-02,  9.1897687e-03,\n",
       "        -1.7272739e-02, -2.7463217e-05,  2.0888722e-02, -2.5696603e-03,\n",
       "        -3.2593764e-03, -2.9928973e-02,  1.1930628e-02,  1.7698377e-02],\n",
       "       [ 5.3056948e-02,  1.1001656e-02,  3.1856358e-02,  1.7256709e-03,\n",
       "        -1.1928906e-02, -3.7495859e-04, -1.3896550e-02,  1.9561470e-02,\n",
       "         1.8687159e-02,  1.1892814e-02, -2.6391979e-02,  5.1784851e-02,\n",
       "         2.0139676e-02,  2.8082062e-02, -4.3983545e-02, -1.1873415e-02,\n",
       "         3.9360162e-02,  3.8132682e-02,  2.9752320e-02,  2.3796085e-02,\n",
       "        -2.8523874e-02, -9.4494233e-03, -2.0592460e-02,  1.0059174e-02,\n",
       "        -2.0227259e-02,  4.2502880e-03, -5.2545192e-03, -6.3916352e-03,\n",
       "        -9.0982992e-04,  1.1030405e-02, -1.3762703e-03, -9.5622297e-03,\n",
       "         2.8065327e-03,  7.1357489e-03, -5.2410131e-03,  3.7013933e-02,\n",
       "         2.9182542e-02,  1.6783884e-02,  2.3554252e-02, -2.4742110e-02,\n",
       "        -2.7179727e-02,  2.6684754e-02,  5.2712155e-03, -3.0241318e-02,\n",
       "         2.5377160e-02,  1.7509429e-02,  2.8006691e-03,  2.4983410e-02,\n",
       "        -1.7965337e-02,  3.0183582e-02,  1.0294854e-02,  1.1469036e-02,\n",
       "        -3.1514436e-02,  3.0937819e-03, -2.3088951e-02,  9.1897687e-03,\n",
       "        -1.7272739e-02, -2.7463217e-05,  2.0888722e-02, -2.5696603e-03,\n",
       "        -3.2593764e-03, -2.9928973e-02,  1.1930628e-02,  1.7698377e-02],\n",
       "       [ 5.3056948e-02,  1.1001656e-02,  3.1856358e-02,  1.7256709e-03,\n",
       "        -1.1928906e-02, -3.7495859e-04, -1.3896550e-02,  1.9561470e-02,\n",
       "         1.8687159e-02,  1.1892814e-02, -2.6391979e-02,  5.1784851e-02,\n",
       "         2.0139676e-02,  2.8082062e-02, -4.3983545e-02, -1.1873415e-02,\n",
       "         3.9360162e-02,  3.8132682e-02,  2.9752320e-02,  2.3796085e-02,\n",
       "        -2.8523874e-02, -9.4494233e-03, -2.0592460e-02,  1.0059174e-02,\n",
       "        -2.0227259e-02,  4.2502880e-03, -5.2545192e-03, -6.3916352e-03,\n",
       "        -9.0982992e-04,  1.1030405e-02, -1.3762703e-03, -9.5622297e-03,\n",
       "         2.8065327e-03,  7.1357489e-03, -5.2410131e-03,  3.7013933e-02,\n",
       "         2.9182542e-02,  1.6783884e-02,  2.3554252e-02, -2.4742110e-02,\n",
       "        -2.7179727e-02,  2.6684754e-02,  5.2712155e-03, -3.0241318e-02,\n",
       "         2.5377160e-02,  1.7509429e-02,  2.8006691e-03,  2.4983410e-02,\n",
       "        -1.7965337e-02,  3.0183582e-02,  1.0294854e-02,  1.1469036e-02,\n",
       "        -3.1514436e-02,  3.0937819e-03, -2.3088951e-02,  9.1897687e-03,\n",
       "        -1.7272739e-02, -2.7463217e-05,  2.0888722e-02, -2.5696603e-03,\n",
       "        -3.2593764e-03, -2.9928973e-02,  1.1930628e-02,  1.7698377e-02]],\n",
       "      dtype=float32)>"
      ]
     },
     "execution_count": 132,
     "metadata": {},
     "output_type": "execute_result"
    }
   ],
   "source": [
    "states"
   ]
  },
  {
   "cell_type": "code",
   "execution_count": 139,
   "id": "76426f71",
   "metadata": {},
   "outputs": [],
   "source": [
    "class Decoder(tf.keras.layers.Layer):\n",
    "    def __init__(self, vocab_size, hidden_size, max_length):\n",
    "        super(Decoder, self).__init__()\n",
    "        self.vocab_size = vocab_size\n",
    "        self.hidden_size = hidden_size\n",
    "        self.max_length = max_length\n",
    "        self.embedding = tf.keras.layers.Embedding(self.vocab_size, self.hidden_size)\n",
    "        self.gru = tf.keras.layers.GRU(self.max_length, return_sequences=True, return_state=True, recurrent_initializer='glorot_uniform')\n",
    "        self.attention = tf.keras.layers.Attention()\n",
    "        self.wc = tf.keras.layers.Dense(self.max_length)\n",
    "        self.fc = tf.keras.layers.Dense(self.vocab_size)\n",
    "        \n",
    "    def call(self, inputs, enc_ouputs = None, return_state=False, training=False):\n",
    "        x = self.embedding(inputs)\n",
    "\n",
    "        if enc_ouputs is None:\n",
    "            enc_ouputs = self.gru.get_initial_state(x)        \n",
    "        outputs, states = self.gru(x, initial_state=enc_ouputs, training=training)\n",
    "        x = self.wc(outputs)\n",
    "        x = self.fc(x)\n",
    "        return x"
   ]
  },
  {
   "cell_type": "code",
   "execution_count": 140,
   "id": "2c85ca37",
   "metadata": {},
   "outputs": [],
   "source": [
    "dec = Decoder(vocab_size, hidden_size, max_length)"
   ]
  },
  {
   "cell_type": "code",
   "execution_count": 141,
   "id": "e034556b",
   "metadata": {},
   "outputs": [
    {
     "data": {
      "text/plain": [
       "<tf.Tensor: shape=(4, 64, 8003), dtype=float32, numpy=\n",
       "array([[[ 2.1982929e-03, -1.0801135e-03, -1.0143860e-03, ...,\n",
       "         -2.4488190e-04,  1.9925400e-03,  1.3355419e-05],\n",
       "        [ 1.4968932e-03, -4.7003297e-04, -2.0716371e-04, ...,\n",
       "         -1.0709614e-03, -6.4194429e-04, -7.5892010e-04],\n",
       "        [-6.0943334e-04, -4.8160538e-04, -8.2564744e-05, ...,\n",
       "          1.0857458e-03, -3.2275948e-03, -3.5852867e-05],\n",
       "        ...,\n",
       "        [ 2.6121561e-03,  1.8557305e-03,  3.2420403e-03, ...,\n",
       "          3.2647589e-04, -2.6801793e-04,  2.8835847e-03],\n",
       "        [ 2.6121561e-03,  1.8557305e-03,  3.2420403e-03, ...,\n",
       "          3.2647589e-04, -2.6801793e-04,  2.8835847e-03],\n",
       "        [ 2.6121561e-03,  1.8557305e-03,  3.2420403e-03, ...,\n",
       "          3.2647589e-04, -2.6801793e-04,  2.8835847e-03]],\n",
       "\n",
       "       [[ 2.1982929e-03, -1.0801135e-03, -1.0143860e-03, ...,\n",
       "         -2.4488190e-04,  1.9925400e-03,  1.3355419e-05],\n",
       "        [ 2.0087957e-03, -2.0758607e-03, -1.4774778e-03, ...,\n",
       "          2.6493722e-03,  1.9328758e-03,  2.7663722e-03],\n",
       "        [-2.6542320e-06, -1.4034932e-03, -7.2156783e-04, ...,\n",
       "          3.0082350e-03, -2.1905054e-03,  1.8961505e-03],\n",
       "        ...,\n",
       "        [ 2.6121556e-03,  1.8557303e-03,  3.2420405e-03, ...,\n",
       "          3.2647577e-04, -2.6801816e-04,  2.8835842e-03],\n",
       "        [ 2.6121556e-03,  1.8557303e-03,  3.2420405e-03, ...,\n",
       "          3.2647577e-04, -2.6801816e-04,  2.8835842e-03],\n",
       "        [ 2.6121556e-03,  1.8557303e-03,  3.2420405e-03, ...,\n",
       "          3.2647577e-04, -2.6801816e-04,  2.8835842e-03]],\n",
       "\n",
       "       [[ 2.1982929e-03, -1.0801135e-03, -1.0143860e-03, ...,\n",
       "         -2.4488190e-04,  1.9925400e-03,  1.3355419e-05],\n",
       "        [-7.5973090e-05, -7.8900158e-04, -1.6795241e-03, ...,\n",
       "          1.0165819e-03,  2.3022415e-03,  1.2019061e-03],\n",
       "        [-6.9350784e-04, -7.8227260e-04, -1.0179050e-03, ...,\n",
       "          2.4719385e-03, -2.0375366e-03,  1.5138973e-03],\n",
       "        ...,\n",
       "        [ 2.6121556e-03,  1.8557309e-03,  3.2420405e-03, ...,\n",
       "          3.2647623e-04, -2.6801776e-04,  2.8835838e-03],\n",
       "        [ 2.6121556e-03,  1.8557309e-03,  3.2420405e-03, ...,\n",
       "          3.2647623e-04, -2.6801776e-04,  2.8835838e-03],\n",
       "        [ 2.6121556e-03,  1.8557309e-03,  3.2420405e-03, ...,\n",
       "          3.2647623e-04, -2.6801776e-04,  2.8835838e-03]],\n",
       "\n",
       "       [[ 2.1982929e-03, -1.0801135e-03, -1.0143860e-03, ...,\n",
       "         -2.4488190e-04,  1.9925400e-03,  1.3355419e-05],\n",
       "        [ 7.4838166e-04, -1.7871646e-03,  1.3457041e-04, ...,\n",
       "         -3.9503511e-04,  1.5516699e-03,  1.6983476e-03],\n",
       "        [-7.4201106e-04, -1.3964827e-03, -2.3143122e-04, ...,\n",
       "          1.5215192e-03, -2.4657312e-03,  1.6876825e-03],\n",
       "        ...,\n",
       "        [ 2.6121559e-03,  1.8557309e-03,  3.2420410e-03, ...,\n",
       "          3.2647638e-04, -2.6801837e-04,  2.8835847e-03],\n",
       "        [ 2.6121559e-03,  1.8557309e-03,  3.2420410e-03, ...,\n",
       "          3.2647638e-04, -2.6801837e-04,  2.8835847e-03],\n",
       "        [ 2.6121559e-03,  1.8557311e-03,  3.2420410e-03, ...,\n",
       "          3.2647638e-04, -2.6801837e-04,  2.8835847e-03]]], dtype=float32)>"
      ]
     },
     "execution_count": 141,
     "metadata": {},
     "output_type": "execute_result"
    }
   ],
   "source": [
    "dec(target_04[:4], states)"
   ]
  },
  {
   "cell_type": "code",
   "execution_count": 101,
   "id": "3371d94b",
   "metadata": {},
   "outputs": [
    {
     "data": {
      "text/plain": [
       "<KerasTensor: shape=(None, 64, 64) dtype=float32 (created by layer 'gru_6')>"
      ]
     },
     "execution_count": 101,
     "metadata": {},
     "output_type": "execute_result"
    }
   ],
   "source": [
    "Decoder_output"
   ]
  },
  {
   "cell_type": "code",
   "execution_count": null,
   "id": "5be6f29b",
   "metadata": {},
   "outputs": [],
   "source": [
    "\n",
    "Layer01_RNN_Forward = tf.keras.layers.SimpleRNN(hidden_size, return_sequences=False, go_backwards=False)(Embedding_Layers)\n",
    "Classifier = tf.keras.layers.Dense(1, activation = 'sigmoid')(Layer01_RNN_Forward)"
   ]
  }
 ],
 "metadata": {
  "kernelspec": {
   "display_name": "Python 3 (ipykernel)",
   "language": "python",
   "name": "python3"
  },
  "language_info": {
   "codemirror_mode": {
    "name": "ipython",
    "version": 3
   },
   "file_extension": ".py",
   "mimetype": "text/x-python",
   "name": "python",
   "nbconvert_exporter": "python",
   "pygments_lexer": "ipython3",
   "version": "3.9.7"
  }
 },
 "nbformat": 4,
 "nbformat_minor": 5
}
